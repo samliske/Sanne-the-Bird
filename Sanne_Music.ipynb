{
  "nbformat": 4,
  "nbformat_minor": 0,
  "metadata": {
    "colab": {
      "provenance": [],
      "authorship_tag": "ABX9TyPpF1g/ZxqKPHK7bZWIyf+7",
      "include_colab_link": true
    },
    "kernelspec": {
      "name": "python3",
      "display_name": "Python 3"
    },
    "language_info": {
      "name": "python"
    }
  },
  "cells": [
    {
      "cell_type": "markdown",
      "metadata": {
        "id": "view-in-github",
        "colab_type": "text"
      },
      "source": [
        "<a href=\"https://colab.research.google.com/github/samliske/Sanne-the-Bird/blob/main/Sanne_Music.ipynb\" target=\"_parent\"><img src=\"https://colab.research.google.com/assets/colab-badge.svg\" alt=\"Open In Colab\"/></a>"
      ]
    },
    {
      "cell_type": "code",
      "source": [
        "from google.colab import drive\n",
        "drive.mount('/content/drive')"
      ],
      "metadata": {
        "colab": {
          "base_uri": "https://localhost:8080/"
        },
        "id": "A35OM3iqws_S",
        "outputId": "58818536-7d83-4047-9856-9cf4d6594cf3"
      },
      "execution_count": null,
      "outputs": [
        {
          "output_type": "stream",
          "name": "stdout",
          "text": [
            "Mounted at /content/drive\n"
          ]
        }
      ]
    },
    {
      "cell_type": "code",
      "source": [],
      "metadata": {
        "id": "1-2ttWtSXIc2"
      },
      "execution_count": null,
      "outputs": []
    },
    {
      "cell_type": "code",
      "execution_count": null,
      "metadata": {
        "colab": {
          "base_uri": "https://localhost:8080/",
          "height": 348
        },
        "id": "sztVZTYvVbfX",
        "outputId": "c7762e9a-4e6a-4a56-b6d0-10b1e6388e6f"
      },
      "outputs": [
        {
          "output_type": "stream",
          "name": "stdout",
          "text": [
            "21004\n"
          ]
        },
        {
          "output_type": "execute_result",
          "data": {
            "text/plain": [
              "       Unnamed: 0  altitude                 date_time  device_info_serial  \\\n",
              "40916       40916        55 2013-08-15 00:01:08+00:00                 833   \n",
              "0               0        71 2013-08-15 00:18:08+00:00                 851   \n",
              "19795       19795       382 2013-08-15 00:20:45+00:00                 864   \n",
              "40917       40917        54 2013-08-15 00:31:00+00:00                 833   \n",
              "1               1        68 2013-08-15 00:48:07+00:00                 851   \n",
              "\n",
              "        direction   latitude  longitude   speed_2d bird_name  elapsed_time  \n",
              "40916  -91.499509  49.931065   2.281893   0.372156     Sanne           0.0  \n",
              "0     -150.469753  49.419860   2.120733   0.150000      Eric        1020.0  \n",
              "19795  145.179141  50.213455   4.394506  16.482439      Nico        1177.0  \n",
              "40917 -141.804053  49.931076   2.281900   1.318484     Sanne        1792.0  \n",
              "1     -136.151141  49.419880   2.120746   2.438360      Eric        2819.0  "
            ],
            "text/html": [
              "\n",
              "  <div id=\"df-84ef8652-7d59-4be1-b784-981dba9a00e6\" class=\"colab-df-container\">\n",
              "    <div>\n",
              "<style scoped>\n",
              "    .dataframe tbody tr th:only-of-type {\n",
              "        vertical-align: middle;\n",
              "    }\n",
              "\n",
              "    .dataframe tbody tr th {\n",
              "        vertical-align: top;\n",
              "    }\n",
              "\n",
              "    .dataframe thead th {\n",
              "        text-align: right;\n",
              "    }\n",
              "</style>\n",
              "<table border=\"1\" class=\"dataframe\">\n",
              "  <thead>\n",
              "    <tr style=\"text-align: right;\">\n",
              "      <th></th>\n",
              "      <th>Unnamed: 0</th>\n",
              "      <th>altitude</th>\n",
              "      <th>date_time</th>\n",
              "      <th>device_info_serial</th>\n",
              "      <th>direction</th>\n",
              "      <th>latitude</th>\n",
              "      <th>longitude</th>\n",
              "      <th>speed_2d</th>\n",
              "      <th>bird_name</th>\n",
              "      <th>elapsed_time</th>\n",
              "    </tr>\n",
              "  </thead>\n",
              "  <tbody>\n",
              "    <tr>\n",
              "      <th>40916</th>\n",
              "      <td>40916</td>\n",
              "      <td>55</td>\n",
              "      <td>2013-08-15 00:01:08+00:00</td>\n",
              "      <td>833</td>\n",
              "      <td>-91.499509</td>\n",
              "      <td>49.931065</td>\n",
              "      <td>2.281893</td>\n",
              "      <td>0.372156</td>\n",
              "      <td>Sanne</td>\n",
              "      <td>0.0</td>\n",
              "    </tr>\n",
              "    <tr>\n",
              "      <th>0</th>\n",
              "      <td>0</td>\n",
              "      <td>71</td>\n",
              "      <td>2013-08-15 00:18:08+00:00</td>\n",
              "      <td>851</td>\n",
              "      <td>-150.469753</td>\n",
              "      <td>49.419860</td>\n",
              "      <td>2.120733</td>\n",
              "      <td>0.150000</td>\n",
              "      <td>Eric</td>\n",
              "      <td>1020.0</td>\n",
              "    </tr>\n",
              "    <tr>\n",
              "      <th>19795</th>\n",
              "      <td>19795</td>\n",
              "      <td>382</td>\n",
              "      <td>2013-08-15 00:20:45+00:00</td>\n",
              "      <td>864</td>\n",
              "      <td>145.179141</td>\n",
              "      <td>50.213455</td>\n",
              "      <td>4.394506</td>\n",
              "      <td>16.482439</td>\n",
              "      <td>Nico</td>\n",
              "      <td>1177.0</td>\n",
              "    </tr>\n",
              "    <tr>\n",
              "      <th>40917</th>\n",
              "      <td>40917</td>\n",
              "      <td>54</td>\n",
              "      <td>2013-08-15 00:31:00+00:00</td>\n",
              "      <td>833</td>\n",
              "      <td>-141.804053</td>\n",
              "      <td>49.931076</td>\n",
              "      <td>2.281900</td>\n",
              "      <td>1.318484</td>\n",
              "      <td>Sanne</td>\n",
              "      <td>1792.0</td>\n",
              "    </tr>\n",
              "    <tr>\n",
              "      <th>1</th>\n",
              "      <td>1</td>\n",
              "      <td>68</td>\n",
              "      <td>2013-08-15 00:48:07+00:00</td>\n",
              "      <td>851</td>\n",
              "      <td>-136.151141</td>\n",
              "      <td>49.419880</td>\n",
              "      <td>2.120746</td>\n",
              "      <td>2.438360</td>\n",
              "      <td>Eric</td>\n",
              "      <td>2819.0</td>\n",
              "    </tr>\n",
              "  </tbody>\n",
              "</table>\n",
              "</div>\n",
              "    <div class=\"colab-df-buttons\">\n",
              "\n",
              "  <div class=\"colab-df-container\">\n",
              "    <button class=\"colab-df-convert\" onclick=\"convertToInteractive('df-84ef8652-7d59-4be1-b784-981dba9a00e6')\"\n",
              "            title=\"Convert this dataframe to an interactive table.\"\n",
              "            style=\"display:none;\">\n",
              "\n",
              "  <svg xmlns=\"http://www.w3.org/2000/svg\" height=\"24px\" viewBox=\"0 -960 960 960\">\n",
              "    <path d=\"M120-120v-720h720v720H120Zm60-500h600v-160H180v160Zm220 220h160v-160H400v160Zm0 220h160v-160H400v160ZM180-400h160v-160H180v160Zm440 0h160v-160H620v160ZM180-180h160v-160H180v160Zm440 0h160v-160H620v160Z\"/>\n",
              "  </svg>\n",
              "    </button>\n",
              "\n",
              "  <style>\n",
              "    .colab-df-container {\n",
              "      display:flex;\n",
              "      gap: 12px;\n",
              "    }\n",
              "\n",
              "    .colab-df-convert {\n",
              "      background-color: #E8F0FE;\n",
              "      border: none;\n",
              "      border-radius: 50%;\n",
              "      cursor: pointer;\n",
              "      display: none;\n",
              "      fill: #1967D2;\n",
              "      height: 32px;\n",
              "      padding: 0 0 0 0;\n",
              "      width: 32px;\n",
              "    }\n",
              "\n",
              "    .colab-df-convert:hover {\n",
              "      background-color: #E2EBFA;\n",
              "      box-shadow: 0px 1px 2px rgba(60, 64, 67, 0.3), 0px 1px 3px 1px rgba(60, 64, 67, 0.15);\n",
              "      fill: #174EA6;\n",
              "    }\n",
              "\n",
              "    .colab-df-buttons div {\n",
              "      margin-bottom: 4px;\n",
              "    }\n",
              "\n",
              "    [theme=dark] .colab-df-convert {\n",
              "      background-color: #3B4455;\n",
              "      fill: #D2E3FC;\n",
              "    }\n",
              "\n",
              "    [theme=dark] .colab-df-convert:hover {\n",
              "      background-color: #434B5C;\n",
              "      box-shadow: 0px 1px 3px 1px rgba(0, 0, 0, 0.15);\n",
              "      filter: drop-shadow(0px 1px 2px rgba(0, 0, 0, 0.3));\n",
              "      fill: #FFFFFF;\n",
              "    }\n",
              "  </style>\n",
              "\n",
              "    <script>\n",
              "      const buttonEl =\n",
              "        document.querySelector('#df-84ef8652-7d59-4be1-b784-981dba9a00e6 button.colab-df-convert');\n",
              "      buttonEl.style.display =\n",
              "        google.colab.kernel.accessAllowed ? 'block' : 'none';\n",
              "\n",
              "      async function convertToInteractive(key) {\n",
              "        const element = document.querySelector('#df-84ef8652-7d59-4be1-b784-981dba9a00e6');\n",
              "        const dataTable =\n",
              "          await google.colab.kernel.invokeFunction('convertToInteractive',\n",
              "                                                    [key], {});\n",
              "        if (!dataTable) return;\n",
              "\n",
              "        const docLinkHtml = 'Like what you see? Visit the ' +\n",
              "          '<a target=\"_blank\" href=https://colab.research.google.com/notebooks/data_table.ipynb>data table notebook</a>'\n",
              "          + ' to learn more about interactive tables.';\n",
              "        element.innerHTML = '';\n",
              "        dataTable['output_type'] = 'display_data';\n",
              "        await google.colab.output.renderOutput(dataTable, element);\n",
              "        const docLink = document.createElement('div');\n",
              "        docLink.innerHTML = docLinkHtml;\n",
              "        element.appendChild(docLink);\n",
              "      }\n",
              "    </script>\n",
              "  </div>\n",
              "\n",
              "\n",
              "<div id=\"df-54ae62e7-4285-4a98-8224-6dbae611211f\">\n",
              "  <button class=\"colab-df-quickchart\" onclick=\"quickchart('df-54ae62e7-4285-4a98-8224-6dbae611211f')\"\n",
              "            title=\"Suggest charts\"\n",
              "            style=\"display:none;\">\n",
              "\n",
              "<svg xmlns=\"http://www.w3.org/2000/svg\" height=\"24px\"viewBox=\"0 0 24 24\"\n",
              "     width=\"24px\">\n",
              "    <g>\n",
              "        <path d=\"M19 3H5c-1.1 0-2 .9-2 2v14c0 1.1.9 2 2 2h14c1.1 0 2-.9 2-2V5c0-1.1-.9-2-2-2zM9 17H7v-7h2v7zm4 0h-2V7h2v10zm4 0h-2v-4h2v4z\"/>\n",
              "    </g>\n",
              "</svg>\n",
              "  </button>\n",
              "\n",
              "<style>\n",
              "  .colab-df-quickchart {\n",
              "      --bg-color: #E8F0FE;\n",
              "      --fill-color: #1967D2;\n",
              "      --hover-bg-color: #E2EBFA;\n",
              "      --hover-fill-color: #174EA6;\n",
              "      --disabled-fill-color: #AAA;\n",
              "      --disabled-bg-color: #DDD;\n",
              "  }\n",
              "\n",
              "  [theme=dark] .colab-df-quickchart {\n",
              "      --bg-color: #3B4455;\n",
              "      --fill-color: #D2E3FC;\n",
              "      --hover-bg-color: #434B5C;\n",
              "      --hover-fill-color: #FFFFFF;\n",
              "      --disabled-bg-color: #3B4455;\n",
              "      --disabled-fill-color: #666;\n",
              "  }\n",
              "\n",
              "  .colab-df-quickchart {\n",
              "    background-color: var(--bg-color);\n",
              "    border: none;\n",
              "    border-radius: 50%;\n",
              "    cursor: pointer;\n",
              "    display: none;\n",
              "    fill: var(--fill-color);\n",
              "    height: 32px;\n",
              "    padding: 0;\n",
              "    width: 32px;\n",
              "  }\n",
              "\n",
              "  .colab-df-quickchart:hover {\n",
              "    background-color: var(--hover-bg-color);\n",
              "    box-shadow: 0 1px 2px rgba(60, 64, 67, 0.3), 0 1px 3px 1px rgba(60, 64, 67, 0.15);\n",
              "    fill: var(--button-hover-fill-color);\n",
              "  }\n",
              "\n",
              "  .colab-df-quickchart-complete:disabled,\n",
              "  .colab-df-quickchart-complete:disabled:hover {\n",
              "    background-color: var(--disabled-bg-color);\n",
              "    fill: var(--disabled-fill-color);\n",
              "    box-shadow: none;\n",
              "  }\n",
              "\n",
              "  .colab-df-spinner {\n",
              "    border: 2px solid var(--fill-color);\n",
              "    border-color: transparent;\n",
              "    border-bottom-color: var(--fill-color);\n",
              "    animation:\n",
              "      spin 1s steps(1) infinite;\n",
              "  }\n",
              "\n",
              "  @keyframes spin {\n",
              "    0% {\n",
              "      border-color: transparent;\n",
              "      border-bottom-color: var(--fill-color);\n",
              "      border-left-color: var(--fill-color);\n",
              "    }\n",
              "    20% {\n",
              "      border-color: transparent;\n",
              "      border-left-color: var(--fill-color);\n",
              "      border-top-color: var(--fill-color);\n",
              "    }\n",
              "    30% {\n",
              "      border-color: transparent;\n",
              "      border-left-color: var(--fill-color);\n",
              "      border-top-color: var(--fill-color);\n",
              "      border-right-color: var(--fill-color);\n",
              "    }\n",
              "    40% {\n",
              "      border-color: transparent;\n",
              "      border-right-color: var(--fill-color);\n",
              "      border-top-color: var(--fill-color);\n",
              "    }\n",
              "    60% {\n",
              "      border-color: transparent;\n",
              "      border-right-color: var(--fill-color);\n",
              "    }\n",
              "    80% {\n",
              "      border-color: transparent;\n",
              "      border-right-color: var(--fill-color);\n",
              "      border-bottom-color: var(--fill-color);\n",
              "    }\n",
              "    90% {\n",
              "      border-color: transparent;\n",
              "      border-bottom-color: var(--fill-color);\n",
              "    }\n",
              "  }\n",
              "</style>\n",
              "\n",
              "  <script>\n",
              "    async function quickchart(key) {\n",
              "      const quickchartButtonEl =\n",
              "        document.querySelector('#' + key + ' button');\n",
              "      quickchartButtonEl.disabled = true;  // To prevent multiple clicks.\n",
              "      quickchartButtonEl.classList.add('colab-df-spinner');\n",
              "      try {\n",
              "        const charts = await google.colab.kernel.invokeFunction(\n",
              "            'suggestCharts', [key], {});\n",
              "      } catch (error) {\n",
              "        console.error('Error during call to suggestCharts:', error);\n",
              "      }\n",
              "      quickchartButtonEl.classList.remove('colab-df-spinner');\n",
              "      quickchartButtonEl.classList.add('colab-df-quickchart-complete');\n",
              "    }\n",
              "    (() => {\n",
              "      let quickchartButtonEl =\n",
              "        document.querySelector('#df-54ae62e7-4285-4a98-8224-6dbae611211f button');\n",
              "      quickchartButtonEl.style.display =\n",
              "        google.colab.kernel.accessAllowed ? 'block' : 'none';\n",
              "    })();\n",
              "  </script>\n",
              "</div>\n",
              "\n",
              "    </div>\n",
              "  </div>\n"
            ],
            "application/vnd.google.colaboratory.intrinsic+json": {
              "type": "dataframe",
              "variable_name": "df",
              "summary": "{\n  \"name\": \"df\",\n  \"rows\": 61920,\n  \"fields\": [\n    {\n      \"column\": \"Unnamed: 0\",\n      \"properties\": {\n        \"dtype\": \"number\",\n        \"std\": 17874,\n        \"min\": 0,\n        \"max\": 61919,\n        \"num_unique_values\": 61920,\n        \"samples\": [\n          32659,\n          22878,\n          23090\n        ],\n        \"semantic_type\": \"\",\n        \"description\": \"\"\n      }\n    },\n    {\n      \"column\": \"altitude\",\n      \"properties\": {\n        \"dtype\": \"number\",\n        \"std\": 136,\n        \"min\": -1010,\n        \"max\": 6965,\n        \"num_unique_values\": 1360,\n        \"samples\": [\n          245,\n          -591,\n          1587\n        ],\n        \"semantic_type\": \"\",\n        \"description\": \"\"\n      }\n    },\n    {\n      \"column\": \"date_time\",\n      \"properties\": {\n        \"dtype\": \"date\",\n        \"min\": \"2013-08-15 00:01:08+00:00\",\n        \"max\": \"2014-04-30 23:59:34+00:00\",\n        \"num_unique_values\": 61837,\n        \"samples\": [\n          \"2013-12-26 19:33:13+00:00\",\n          \"2013-12-09 18:08:35+00:00\",\n          \"2013-09-09 00:25:05+00:00\"\n        ],\n        \"semantic_type\": \"\",\n        \"description\": \"\"\n      }\n    },\n    {\n      \"column\": \"device_info_serial\",\n      \"properties\": {\n        \"dtype\": \"number\",\n        \"std\": 12,\n        \"min\": 833,\n        \"max\": 864,\n        \"num_unique_values\": 3,\n        \"samples\": [\n          833,\n          851,\n          864\n        ],\n        \"semantic_type\": \"\",\n        \"description\": \"\"\n      }\n    },\n    {\n      \"column\": \"direction\",\n      \"properties\": {\n        \"dtype\": \"number\",\n        \"std\": 102.78600928321833,\n        \"min\": -179.997929221463,\n        \"max\": 180.0,\n        \"num_unique_values\": 61468,\n        \"samples\": [\n          179.675255374953,\n          129.41165765603998,\n          122.471387538614\n        ],\n        \"semantic_type\": \"\",\n        \"description\": \"\"\n      }\n    },\n    {\n      \"column\": \"latitude\",\n      \"properties\": {\n        \"dtype\": \"number\",\n        \"std\": 14.809813096249714,\n        \"min\": 12.354424,\n        \"max\": 51.5184521,\n        \"num_unique_values\": 61052,\n        \"samples\": [\n          17.488735100000003,\n          50.2111948,\n          50.1080442\n        ],\n        \"semantic_type\": \"\",\n        \"description\": \"\"\n      }\n    },\n    {\n      \"column\": \"longitude\",\n      \"properties\": {\n        \"dtype\": \"number\",\n        \"std\": 8.478471340003237,\n        \"min\": -17.6261451,\n        \"max\": 4.8575613,\n        \"num_unique_values\": 60893,\n        \"samples\": [\n          -9.6506488,\n          -16.807255899999998,\n          -9.6019382\n        ],\n        \"semantic_type\": \"\",\n        \"description\": \"\"\n      }\n    },\n    {\n      \"column\": \"speed_2d\",\n      \"properties\": {\n        \"dtype\": \"number\",\n        \"std\": 3.5760389437770774,\n        \"min\": 0.0,\n        \"max\": 63.4880658076776,\n        \"num_unique_values\": 27277,\n        \"samples\": [\n          7.010064193714629,\n          1.24843902534325,\n          15.4243995020876\n        ],\n        \"semantic_type\": \"\",\n        \"description\": \"\"\n      }\n    },\n    {\n      \"column\": \"bird_name\",\n      \"properties\": {\n        \"dtype\": \"category\",\n        \"num_unique_values\": 3,\n        \"samples\": [\n          \"Sanne\",\n          \"Eric\",\n          \"Nico\"\n        ],\n        \"semantic_type\": \"\",\n        \"description\": \"\"\n      }\n    },\n    {\n      \"column\": \"elapsed_time\",\n      \"properties\": {\n        \"dtype\": \"number\",\n        \"std\": 6382366.540082835,\n        \"min\": 0.0,\n        \"max\": 22377506.0,\n        \"num_unique_values\": 61837,\n        \"samples\": [\n          11561525.0,\n          10087647.0,\n          2161437.0\n        ],\n        \"semantic_type\": \"\",\n        \"description\": \"\"\n      }\n    }\n  ]\n}"
            }
          },
          "metadata": {},
          "execution_count": 59
        }
      ],
      "source": [
        "import pandas as pd\n",
        "\n",
        "filename = 'sanneAltitudes'\n",
        "\n",
        "df = pd.read_csv('/content/drive/MyDrive/bird_migration.csv')\n",
        "df['date_time'] = pd.to_datetime(df['date_time'])\n",
        "df = df.sort_values(by=['date_time'], ascending=True)\n",
        "\n",
        "start_time = df['date_time'].min()\n",
        "df['elapsed_time'] = (df['date_time'] - start_time).dt.total_seconds()\n",
        "\n",
        "sanne_data = df[df['bird_name'] == 'Sanne']\n",
        "print(len(sanne_data))\n",
        "df.head()"
      ]
    },
    {
      "cell_type": "code",
      "source": [
        "import matplotlib.pylab as plt\n",
        "\n",
        "filtered_sanne_data = sanne_data[sanne_data['altitude'] > 500]\n",
        "\n",
        "sanne_dates = filtered_sanne_data['elapsed_time'].values / (3600 * 24)\n",
        "sanne_altitudes = filtered_sanne_data['altitude'].values\n",
        "\n",
        "plt.scatter(sanne_dates, sanne_altitudes, s=sanne_altitudes)\n",
        "plt.xlabel('days')\n",
        "plt.ylabel('altitudes')\n",
        "\n",
        "times_days = max(sanne_dates) - sanne_dates\n",
        "\n",
        "n_events = len(filtered_sanne_data)\n",
        "plt.show()"
      ],
      "metadata": {
        "colab": {
          "base_uri": "https://localhost:8080/",
          "height": 449
        },
        "id": "J_bnhaNPXA5a",
        "outputId": "130ab3ef-638c-4a1f-a458-46e0da6438a2"
      },
      "execution_count": null,
      "outputs": [
        {
          "output_type": "display_data",
          "data": {
            "text/plain": [
              "<Figure size 640x480 with 1 Axes>"
            ],
            "image/png": "[encoded data removed]"
          },
          "metadata": {}
        }
      ]
    },
    {
      "cell_type": "code",
      "source": [
        "def map_value(value, min_value, max_value, min_result, max_result):\n",
        "\n",
        "  result = min_result + (value - min_value)/(max_value - min_value)*(max_result - min_result)\n",
        "  return result\n",
        "\n"
      ],
      "metadata": {
        "id": "sYs5zwaY6gBv"
      },
      "execution_count": null,
      "outputs": []
    },
    {
      "cell_type": "code",
      "source": [
        "days_per_beat = 10\n",
        "\n",
        "t_data = times_days / days_per_beat\n",
        "\n",
        "duration_beats = max(t_data)\n",
        "print('Duration:', duration_beats, 'beats')"
      ],
      "metadata": {
        "id": "kfMp_Dxj75a4",
        "colab": {
          "base_uri": "https://localhost:8080/"
        },
        "outputId": "f108bf4c-0d8f-488a-f04e-3368a27fb6b6"
      },
      "execution_count": null,
      "outputs": [
        {
          "output_type": "stream",
          "name": "stdout",
          "text": [
            "Duration: 25.734533564814814 beats\n"
          ]
        }
      ]
    },
    {
      "cell_type": "code",
      "source": [],
      "metadata": {
        "id": "DJRMMv1UVBNe"
      },
      "execution_count": null,
      "outputs": []
    },
    {
      "cell_type": "code",
      "source": [
        "y_data = map_value(sanne_altitudes, min(sanne_altitudes), max(sanne_altitudes), 0, 1)\n",
        "\n",
        "plt.scatter(times_days, y_data, s=50*y_data)\n",
        "plt.xlabel('time [days]')\n",
        "plt.ylabel('y data [normalized]')\n",
        "plt.show()"
      ],
      "metadata": {
        "colab": {
          "base_uri": "https://localhost:8080/",
          "height": 449
        },
        "id": "qayo7NjUOGjX",
        "outputId": "2e77530e-5d00-4298-8dd8-8e30cbb4da1a"
      },
      "execution_count": null,
      "outputs": [
        {
          "output_type": "display_data",
          "data": {
            "text/plain": [
              "<Figure size 640x480 with 1 Axes>"
            ],
            "image/png": "[encoded data removed]"
          },
          "metadata": {}
        }
      ]
    },
    {
      "cell_type": "code",
      "source": [
        "!pip install audiolazy"
      ],
      "metadata": {
        "colab": {
          "base_uri": "https://localhost:8080/"
        },
        "id": "J4S_PVADW1AH",
        "outputId": "3c0110ca-6a05-4e50-aa91-49121f95b9a1"
      },
      "execution_count": null,
      "outputs": [
        {
          "output_type": "stream",
          "name": "stdout",
          "text": [
            "Requirement already satisfied: audiolazy in /usr/local/lib/python3.10/dist-packages (0.5)\n"
          ]
        }
      ]
    },
    {
      "cell_type": "code",
      "source": [
        "import itertools as it\n",
        "\n",
        "MIDI_A4 = 69\n",
        "\n",
        "def str2midi(note_string):\n",
        "    \"\"\"Given a note string name (e.g. \"Bb4\"), returns its MIDI pitch number. (From audiolazy)\n",
        "    \"\"\"\n",
        "\n",
        "    data = note_string.strip().lower()\n",
        "    name2delta = {\"c\": -9, \"d\": -7, \"e\": -5, \"f\": -4, \"g\": -2, \"a\": 0, \"b\": 2}\n",
        "    accident2delta = {\"b\": -1, \"#\": 1, \"x\": 2}\n",
        "    accidents = list(it.takewhile(lambda el: el in accident2delta, data[1:]))\n",
        "    octave_delta = int(data[len(accidents) + 1:]) - 4\n",
        "    return (MIDI_A4 +\n",
        "          name2delta[data[0]] + # Name\n",
        "          sum(accident2delta[ac] for ac in accidents) + # Accident\n",
        "          12 * octave_delta # Octave\n",
        "         )"
      ],
      "metadata": {
        "id": "ZQnQdkNte-g5"
      },
      "execution_count": null,
      "outputs": []
    },
    {
      "cell_type": "code",
      "source": [
        "\n",
        "\n",
        "str2midi('A0')"
      ],
      "metadata": {
        "colab": {
          "base_uri": "https://localhost:8080/"
        },
        "id": "BajhHbWDWoRS",
        "outputId": "adbb2352-37a2-476f-cb38-97a11a4139ff"
      },
      "execution_count": null,
      "outputs": [
        {
          "output_type": "execute_result",
          "data": {
            "text/plain": [
              "21"
            ]
          },
          "metadata": {},
          "execution_count": 43
        }
      ]
    },
    {
      "cell_type": "code",
      "source": [
        "# pentatonic notes\n",
        "note_names = ['C2', 'D2', 'E2', 'G2', 'A2', 'C3', 'D3', 'E3',\n",
        "              'G3', 'A3', 'C4', 'D4', 'E4', 'G4', 'A4',\n",
        "              'C5', 'D5', 'E5', 'G5', 'A5']"
      ],
      "metadata": {
        "id": "7X_X3de4geiY"
      },
      "execution_count": null,
      "outputs": []
    },
    {
      "cell_type": "code",
      "source": [
        "note_midis = [str2midi(n) for n in note_names]\n",
        "\n",
        "n_notes = len(note_midis)\n",
        "\n",
        "note_midis"
      ],
      "metadata": {
        "colab": {
          "base_uri": "https://localhost:8080/"
        },
        "id": "ZlnNY3xWhH4o",
        "outputId": "1596a9e0-bc2a-4da8-b3c0-29b1b1bc5b70"
      },
      "execution_count": null,
      "outputs": [
        {
          "output_type": "execute_result",
          "data": {
            "text/plain": [
              "[36,\n",
              " 38,\n",
              " 40,\n",
              " 41,\n",
              " 43,\n",
              " 45,\n",
              " 47,\n",
              " 48,\n",
              " 50,\n",
              " 52,\n",
              " 53,\n",
              " 55,\n",
              " 57,\n",
              " 59,\n",
              " 60,\n",
              " 62,\n",
              " 64,\n",
              " 65,\n",
              " 67,\n",
              " 69,\n",
              " 71,\n",
              " 72,\n",
              " 74,\n",
              " 76,\n",
              " 77,\n",
              " 79,\n",
              " 81,\n",
              " 83]"
            ]
          },
          "metadata": {},
          "execution_count": 52
        }
      ]
    },
    {
      "cell_type": "code",
      "source": [
        "midi_data = []\n",
        "for i in range(n_events):\n",
        "  note_index = round(map_value(y_data[i], 0, 1, n_notes-1, 0))\n",
        "\n",
        "  midi_data.append(note_midis[note_index])\n",
        "\n",
        "plt.scatter(t_data, midi_data, s=50*y_data)\n",
        "plt.xlabel('time [beats]')\n",
        "plt.ylabel('midi note numbers')\n",
        "plt.show()"
      ],
      "metadata": {
        "colab": {
          "base_uri": "https://localhost:8080/",
          "height": 449
        },
        "id": "pi4HhuPjiClf",
        "outputId": "43485509-e1fe-4143-b2fc-bf44428ae074"
      },
      "execution_count": null,
      "outputs": [
        {
          "output_type": "display_data",
          "data": {
            "text/plain": [
              "<Figure size 640x480 with 1 Axes>"
            ],
            "image/png": "[encoded data removed]"
          },
          "metadata": {}
        }
      ]
    },
    {
      "cell_type": "code",
      "source": [
        "vel_min, vel_max = 35, 127\n",
        "\n",
        "vel_data = []\n",
        "for i in range(n_events):\n",
        "  note_velocity = round(map_value(y_data[i], 0, 1, vel_min, vel_max))\n",
        "\n",
        "  vel_data.append(note_velocity)\n",
        "\n",
        "plt.scatter(t_data, midi_data, s=vel_data)\n",
        "plt.xlabel('time [beats]')\n",
        "plt.ylabel('midi note numbers')\n",
        "plt.show()"
      ],
      "metadata": {
        "colab": {
          "base_uri": "https://localhost:8080/",
          "height": 449
        },
        "id": "w46UwJTIlyxT",
        "outputId": "025bc143-61ff-4524-8a6b-6bee96eee0a8"
      },
      "execution_count": null,
      "outputs": [
        {
          "output_type": "display_data",
          "data": {
            "text/plain": [
              "<Figure size 640x480 with 1 Axes>"
            ],
            "image/png": "[encoded data removed]"
          },
          "metadata": {}
        }
      ]
    },
    {
      "cell_type": "code",
      "source": [
        "!pip install midiutil"
      ],
      "metadata": {
        "colab": {
          "base_uri": "https://localhost:8080/"
        },
        "id": "RJNmcOjDnsPc",
        "outputId": "e365855a-bf0c-4347-a714-0dd46093872f"
      },
      "execution_count": null,
      "outputs": [
        {
          "output_type": "stream",
          "name": "stdout",
          "text": [
            "Collecting midiutil\n",
            "  Downloading MIDIUtil-1.2.1.tar.gz (1.0 MB)\n",
            "\u001b[2K     \u001b[90m━━━━━━━━━━━━━━━━━━━━━━━━━━━━━━━━━━━━━━━━\u001b[0m \u001b[32m1.0/1.0 MB\u001b[0m \u001b[31m5.9 MB/s\u001b[0m eta \u001b[36m0:00:00\u001b[0m\n",
            "\u001b[?25h  Preparing metadata (setup.py) ... \u001b[?25l\u001b[?25hdone\n",
            "Building wheels for collected packages: midiutil\n",
            "  Building wheel for midiutil (setup.py) ... \u001b[?25l\u001b[?25hdone\n",
            "  Created wheel for midiutil: filename=MIDIUtil-1.2.1-py3-none-any.whl size=54567 sha256=91f3e5c5def4cb7e397676bf4c1d4b915e8b3228753af576d6a8320e5dcac512\n",
            "  Stored in directory: /root/.cache/pip/wheels/af/43/4a/00b5e4f2fe5e2cd6e92b461995a3a97a2cebb30ab5783501b0\n",
            "Successfully built midiutil\n",
            "Installing collected packages: midiutil\n",
            "Successfully installed midiutil-1.2.1\n"
          ]
        }
      ]
    },
    {
      "cell_type": "code",
      "source": [
        "from midiutil import MIDIFile\n",
        "\n",
        "my_midi_file = MIDIFile(1)\n",
        "my_midi_file.addTempo(track=0, time=0, tempo=60)\n",
        "\n",
        "for i in range(n_events):\n",
        "  my_midi_file.addNote(track=0, channel=0, pitch=midi_data[i], time=t_data[i],\n",
        "                       duration=2, volume=vel_data[i])\n",
        "\n",
        "with open(filename + '.mid', \"wb\") as f:\n",
        "  my_midi_file.writeFile(f)"
      ],
      "metadata": {
        "id": "YqpwRx-3nBPD"
      },
      "execution_count": null,
      "outputs": []
    }
  ]
}